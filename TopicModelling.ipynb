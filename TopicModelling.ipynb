{
 "metadata": {
  "name": "",
  "signature": "sha256:e36a5e4e6dd1f2545dfdb583514ff8df94bfd83497acf0b72dac73fb7f6cd9e7"
 },
 "nbformat": 3,
 "nbformat_minor": 0,
 "worksheets": [
  {
   "cells": [
    {
     "cell_type": "markdown",
     "metadata": {},
     "source": [
      "Introduction into Probabilistic Topic Modelling\n",
      "====\n",
      "\n",
      "<p style=\"text-align: right\"><i>Franta Polach<br>June 2014</i></p>"
     ]
    },
    {
     "cell_type": "markdown",
     "metadata": {},
     "source": [
      "Probabilistic Topic Models\n",
      "----\n",
      "\n",
      "Topic modeling algorithms are designed to discover the main themes that\n",
      "are present in a large and otherwise unstructured collection of documents.\n",
      "They can organize the collection according to the discovered themes.\n",
      "\n",
      "Topic modeling algorithms can be adapted to many kinds of data. Among\n",
      "other applications, they have been used to find patterns in genetic data, images,\n",
      "and social networks.\n",
      "\n",
      "Those algorithms can be applied to massive collections of documents and at present we already have the tools to analyze streaming collections, like you might find from a Web API.\n",
      "\n",
      "Here we will briefly show a basic use of the python topic modelling library Gensim."
     ]
    },
    {
     "cell_type": "heading",
     "level": 4,
     "metadata": {},
     "source": [
      "References"
     ]
    },
    {
     "cell_type": "markdown",
     "metadata": {},
     "source": [
      "* *Building Machine Learning Systems with Python*, Willi Richert, Luis Pedro Coelho, packt (2013).\n",
      "* [Gensim](http://radimrehurek.com/gensim/tutorial.html), Radim \u0158eh\u016f\u0159ek (2009-now)."
     ]
    },
    {
     "cell_type": "code",
     "collapsed": false,
     "input": [
      "# This line configures matplotlib to show figures embedded in the notebook.\n",
      "%matplotlib inline"
     ],
     "language": "python",
     "metadata": {},
     "outputs": [],
     "prompt_number": 1
    },
    {
     "cell_type": "code",
     "collapsed": false,
     "input": [
      "from __future__ import print_function\n",
      "from gensim import corpora, models\n",
      "from mpltools import style\n",
      "style.use('ggplot')\n",
      "import matplotlib.pyplot as plt\n",
      "import numpy as np"
     ],
     "language": "python",
     "metadata": {},
     "outputs": [],
     "prompt_number": 2
    },
    {
     "cell_type": "markdown",
     "metadata": {},
     "source": [
      "Using the Associated Press (AP) dataset, we create a corpus (a list of words). The dataset is cca 7000 short text news, and vocabulary is cca 10500 words."
     ]
    },
    {
     "cell_type": "code",
     "collapsed": false,
     "input": [
      "corpus = corpora.BleiCorpus('./data/ap/ap.dat', './data/ap/vocab.txt')"
     ],
     "language": "python",
     "metadata": {},
     "outputs": [],
     "prompt_number": 3
    },
    {
     "cell_type": "markdown",
     "metadata": {},
     "source": [
      "#### class gensim.corpora.bleicorpus.BleiCorpus\n",
      "`(fname, fname_vocab=None)`\n",
      "\n",
      "- Corpus in Blei\u2019s LDA-C format.\n",
      "\n",
      "- The corpus is represented as two files: one describing the documents, and another describing the mapping between words and their ids.\n",
      "\n",
      "- Each document is one line: `N fieldId1:fieldValue1 fieldId2:fieldValue2 ... fieldIdN:fieldValueN` \n",
      "\n",
      "- The vocabulary is a file with words, one word per line; word at line K has an implicit `id=K`.\n",
      "\n",
      "- Initialize the corpus from a file.\n",
      "\n",
      "- `fname_vocab` is the file with vocabulary; if not specified, it defaults to `fname.vocab`."
     ]
    },
    {
     "cell_type": "markdown",
     "metadata": {},
     "source": [
      "Creating a topic model\n",
      "----\n",
      "\n",
      "The intuition behind **Latent Dirichlet Allocation (LDA)** is that documents exhibit multiple topics. \n",
      "\n",
      "It is a statistical model of document collections that models each observation as a manifestation of multiple latent (hidden) semantic topics.\n",
      "\n",
      "It is most easily described by its generative process, the imaginary\n",
      "random process by which the model assumes the documents arose. \n",
      "\n",
      "We formally define a topic to be a distribution over a fixed vocabulary. For\n",
      "example, the genetics topic has words about genetics with high probability\n",
      "and the evolutionary biology topic has words about evolutionary biology with\n",
      "high probability. We assume that these topics are specified before any data\n",
      "has been generated.\n",
      "For each document in the collection, we generate the words in a two-stage process.\n",
      "* Randomly choose a distribution over topics.\n",
      "* For each word in the document:\n",
      "    * a. Randomly choose a topic from the distribution over topics in step 1.\n",
      "    * b. Randomly choose a word from the corresponding distribution over the vocabulary."
     ]
    },
    {
     "cell_type": "code",
     "collapsed": false,
     "input": [
      "model = models.ldamodel.LdaModel(corpus, num_topics=100, id2word=corpus.id2word, alpha=None)"
     ],
     "language": "python",
     "metadata": {},
     "outputs": [
      {
       "output_type": "stream",
       "stream": "stderr",
       "text": [
        "WARNING:gensim.models.ldamodel:too few updates, training might not converge; consider increasing the number of passes or iterations to improve accuracy\n"
       ]
      }
     ],
     "prompt_number": 4
    },
    {
     "cell_type": "markdown",
     "metadata": {},
     "source": [
      "#### class gensim.models.ldamodel.LdaModel\n",
      "`(corpus=None, num_topics=100, id2word=None, distributed=False, chunksize=2000, passes=1, update_every=1, alpha='symmetric', eta=None, decay=0.5, eval_every=10, iterations=50, gamma_threshold=0.001)`\n",
      "\n",
      "* `num_topics` is the number of requested latent topics to be extracted from the training corpus.\n",
      "* `id2word is` a mapping from word ids (integers) to words (strings). \n",
      "    It is used to determine the vocabulary size, as well as for debugging and topic printing.\n",
      "* `alpha` and `eta` are hyperparameters that affect sparsity of the document-topic (theta) \n",
      " and topic-word (lambda) distributions. Both default to a symmetric `1.0/num_topics` prior."
     ]
    },
    {
     "cell_type": "markdown",
     "metadata": {},
     "source": [
      "**Note**\n",
      "\n",
      "We could use *hierarchical Dirichlet process* to help us determine the oprimal number of topics for our model. Use this to create the model:\n",
      "\n",
      "    hdp = gensim.models.hdpmodel.HdpModel(mm, id2word)\n",
      "\n",
      "\n",
      "Now we create a collection of topics corresponding to all documents in the corpus, the output is a list of pairs `(topic_index, topic_weight)`."
     ]
    },
    {
     "cell_type": "code",
     "collapsed": false,
     "input": [
      "topics = [model[c] for c in corpus]\n",
      "print(topics[1])"
     ],
     "language": "python",
     "metadata": {},
     "outputs": [
      {
       "output_type": "stream",
       "stream": "stdout",
       "text": [
        "[(31, 0.04894125765345262), (44, 0.12928139094481869), (52, 0.085378799094297894), (69, 0.086194640055269903), (92, 0.60383990108978203), (99, 0.042908128809437125)]\n"
       ]
      }
     ],
     "prompt_number": 40
    },
    {
     "cell_type": "markdown",
     "metadata": {},
     "source": [
      "We can take the first 5 topics and show the 9 most relevant words for each. "
     ]
    },
    {
     "cell_type": "code",
     "collapsed": false,
     "input": [
      "for ti in xrange(6):\n",
      "    words = model.show_topic(ti, 9)\n",
      "    tf = sum(f for f, w in words)\n",
      "    print('\\n'.join('{}: {}'.format(w, int(1000. * f / tf)) for f, w in words))\n",
      "    print()"
     ],
     "language": "python",
     "metadata": {},
     "outputs": [
      {
       "output_type": "stream",
       "stream": "stdout",
       "text": [
        "att: 383\n",
        "bain: 160\n",
        "atts: 116\n",
        "archdiocese: 98\n",
        "stockholm: 55\n",
        "officials: 53\n",
        "force: 44\n",
        "president: 44\n",
        "years: 43\n",
        "\n",
        "party: 157\n",
        "thatcher: 154\n",
        "labor: 129\n",
        "mrs: 106\n",
        "minister: 102\n",
        "prime: 98\n",
        "japanese: 93\n",
        "trade: 82\n",
        "leader: 73\n",
        "\n",
        "creek: 168\n",
        "sickness: 143\n",
        "care: 141\n",
        "b: 126\n",
        "people: 96\n",
        "frank: 90\n",
        "epa: 84\n",
        "i: 82\n",
        "pollution: 67\n",
        "\n",
        "waterway: 148\n",
        "bail: 120\n",
        "nosair: 118\n",
        "court: 111\n",
        "birth: 108\n",
        "accused: 103\n",
        "iraqi: 97\n",
        "police: 97\n",
        "two: 94\n",
        "\n",
        "gatt: 144\n",
        "president: 139\n",
        "tariffs: 131\n",
        "chips: 111\n",
        "africa: 106\n",
        "south: 100\n",
        "trade: 97\n",
        "american: 89\n",
        "market: 79\n",
        "\n",
        "hudson: 414\n",
        "slaying: 130\n",
        "le: 102\n",
        "hes: 90\n",
        "people: 74\n",
        "seconddegree: 54\n",
        "roy: 51\n",
        "birthday: 41\n",
        "college: 39\n",
        "\n",
        "air: 221\n",
        "force: 162\n",
        "rings: 127\n",
        "langley: 104\n",
        "fa: 98\n",
        "i: 90\n",
        "fighters: 67\n",
        "ridge: 64\n",
        "calls: 63\n",
        "\n"
       ]
      }
     ],
     "prompt_number": 37
    },
    {
     "cell_type": "markdown",
     "metadata": {},
     "source": [
      "Notice the useless words such as \"I\" and \"b\", they are called stop words and we should remove them."
     ]
    },
    {
     "cell_type": "markdown",
     "metadata": {},
     "source": [
      "Lets plot the histogram of how many topics documents contain. "
     ]
    },
    {
     "cell_type": "code",
     "collapsed": false,
     "input": [
      "thetas = topics\n",
      "plt.hist([len(t) for t in thetas], np.arange(42))\n",
      "plt.ylabel('Nr of documents')\n",
      "plt.xlabel('Nr of topics')\n",
      "plt.show()"
     ],
     "language": "python",
     "metadata": {},
     "outputs": [
      {
       "metadata": {},
       "output_type": "display_data",
       "png": "[encoded data removed]",
       "text": [
        "<matplotlib.figure.Figure at 0x3a44c50>"
       ]
      }
     ],
     "prompt_number": 7
    },
    {
     "cell_type": "markdown",
     "metadata": {},
     "source": [
      "You can see that it is a sparse model, i.e. there are many topics in total, but each document contain just a few of them."
     ]
    },
    {
     "cell_type": "markdown",
     "metadata": {},
     "source": [
      "The distribution of the number of topics among documents is a function of the `alpha` parameter."
     ]
    },
    {
     "cell_type": "markdown",
     "metadata": {},
     "source": [
      "The default alpha in gensim is `1.0/len(corpus)`, so lets try a different value of `alpha`."
     ]
    },
    {
     "cell_type": "code",
     "collapsed": false,
     "input": [
      "model1 = models.ldamodel.LdaModel(\n",
      "    corpus, num_topics=100, id2word=corpus.id2word, alpha=1.)\n",
      "thetas1 = [model1[c] for c in corpus]\n",
      "model2 = models.ldamodel.LdaModel(\n",
      "    corpus, num_topics=100, id2word=corpus.id2word, alpha=2.)\n",
      "thetas2 = [model2[c] for c in corpus]"
     ],
     "language": "python",
     "metadata": {},
     "outputs": [
      {
       "output_type": "stream",
       "stream": "stderr",
       "text": [
        "WARNING:gensim.models.ldamodel:too few updates, training might not converge; consider increasing the number of passes or iterations to improve accuracy\n"
       ]
      }
     ],
     "prompt_number": 29
    },
    {
     "cell_type": "code",
     "collapsed": false,
     "input": [
      "plt.clf()\n",
      "plt.hist([[len(t) for t in thetas], [len(t) for t in thetas1], [len(t) for t in thetas2]], np.arange(42))\n",
      "plt.ylabel('Nr of documents')\n",
      "plt.xlabel('Nr of topics')\n",
      "plt.text(9, 223, r'default alpha')\n",
      "plt.text(24, 156, 'alpha=1.0')\n",
      "plt.text(36, 172, 'alpha=2.0')\n",
      "plt.show()"
     ],
     "language": "python",
     "metadata": {},
     "outputs": [
      {
       "metadata": {},
       "output_type": "display_data",
       "png": "[encoded data removed]",
       "text": [
        "<matplotlib.figure.Figure at 0x16e645c0>"
       ]
      }
     ],
     "prompt_number": 41
    },
    {
     "cell_type": "markdown",
     "metadata": {},
     "source": [
      "The larger the `alpha` parameter, the more topics documents contain.\n",
      "\n"
     ]
    },
    {
     "cell_type": "markdown",
     "metadata": {},
     "source": [
      "Similarity of documents in topic space\n",
      "----\n",
      "\n",
      "For each document, we have a list of contained topics and their weights. In other words, we know the location of the document in the topic space."
     ]
    },
    {
     "cell_type": "markdown",
     "metadata": {},
     "source": [
      "First, we store the topics in NumPy arrays."
     ]
    },
    {
     "cell_type": "code",
     "collapsed": false,
     "input": [
      "dense = np.zeros((len(topics), 100), float)\n",
      "for ti, t in enumerate(topics):\n",
      "    for tj, v in t:\n",
      "        dense[ti, tj] = v"
     ],
     "language": "python",
     "metadata": {},
     "outputs": [],
     "prompt_number": 51
    },
    {
     "cell_type": "markdown",
     "metadata": {},
     "source": [
      "Then we compute all pairwise distances using the `pdist` function from SciPy. "
     ]
    },
    {
     "cell_type": "code",
     "collapsed": false,
     "input": [
      "from scipy.spatial import distance\n",
      "\n",
      "pairwise = distance.squareform(distance.pdist(dense))"
     ],
     "language": "python",
     "metadata": {},
     "outputs": [],
     "prompt_number": 52
    },
    {
     "cell_type": "markdown",
     "metadata": {},
     "source": [
      "Set the diagonal elements of the distance matrix to higher values than anything else in the matrix as we do not want to return the same element when we ask for the closest one."
     ]
    },
    {
     "cell_type": "code",
     "collapsed": false,
     "input": [
      "largest = pairwise.max()\n",
      "for ti in range(len(topics)):\n",
      "    pairwise[ti, ti] = largest+1"
     ],
     "language": "python",
     "metadata": {},
     "outputs": [],
     "prompt_number": 53
    },
    {
     "cell_type": "markdown",
     "metadata": {},
     "source": [
      "Now for each document we can safely ask for the closest one in the topic space."
     ]
    },
    {
     "cell_type": "code",
     "collapsed": false,
     "input": [
      "def closest(doc_id):\n",
      "    return pairwise[doc_id].argmin()"
     ],
     "language": "python",
     "metadata": {},
     "outputs": [],
     "prompt_number": 54
    },
    {
     "cell_type": "markdown",
     "metadata": {},
     "source": [
      "It is time explore the space!"
     ]
    },
    {
     "cell_type": "code",
     "collapsed": false,
     "input": [
      "for i in xrange(10):\n",
      "    print(\"Document no. %i is closest to the document no. %i in the topic space.\" % (i, closest(i)))"
     ],
     "language": "python",
     "metadata": {},
     "outputs": [
      {
       "output_type": "stream",
       "stream": "stdout",
       "text": [
        "Document no 0 is closest to the document no 1720 in the topic space.\n",
        "Document no 1 is closest to the document no 1804 in the topic space.\n",
        "Document no 2 is closest to the document no 1042 in the topic space.\n",
        "Document no 3 is closest to the document no 1425 in the topic space.\n",
        "Document no 4 is closest to the document no 1493 in the topic space.\n",
        "Document no 5 is closest to the document no 986 in the topic space.\n",
        "Document no 6 is closest to the document no 565 in the topic space.\n",
        "Document no 7 is closest to the document no 1876 in the topic space.\n",
        "Document no 8 is closest to the document no 287 in the topic space.\n",
        "Document no 9 is closest to the document no 568 in the topic space.\n"
       ]
      }
     ],
     "prompt_number": 71
    },
    {
     "cell_type": "markdown",
     "metadata": {},
     "source": [
      "What To Do Next?  \n",
      "----\n",
      "\n",
      "- We store the news texts in the file './data/ap/ap.txt', parse the file and display nicely the texts.\n",
      "- apply *stemming* - reduce words to their specific word stems. NLTK can do it.\n",
      "- remove stop words\n",
      "- experiment with changing the number of topics in the model\n",
      "\n",
      "Summary\n",
      "---\n",
      "\n",
      "Let's review what we did:\n",
      "\n",
      "- Introduced what topic modelling is.\n",
      "- Explored basic LDA model.\n",
      "- Checked the most significant words for some topics.\n",
      "- Plotted histogram of number of topics in documents.\n",
      "- Explored the influence of `alpha` on the model.\n",
      "- Created the topics space and computed the similarity matrix of the documents in the space.\n"
     ]
    }
   ],
   "metadata": {}
  }
 ]
}
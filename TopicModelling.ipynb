{
 "metadata": {
  "name": "",
  "signature": "sha256:65246f6ba304f0d2d59f29a953aacec8b0751bfb7dc89342c6445685c4a0f750"
 },
 "nbformat": 3,
 "nbformat_minor": 0,
 "worksheets": [
  {
   "cells": [
    {
     "cell_type": "markdown",
     "metadata": {},
     "source": [
      "Introduction into Probabilistic Topic Modelling\n",
      "====\n",
      "\n",
      "<p style=\"text-align: right\"><i>Franta Polach<br>June 2014</i></p>"
     ]
    },
    {
     "cell_type": "markdown",
     "metadata": {},
     "source": [
      "Probabilistic Topic Models\n",
      "----\n",
      "\n",
      "Topic models are probabilistic models for uncovering the semantic structure of an unstructured document collection based on a hierarchical Bayesian analysis of the original texts. They can organize the collection according to the discovered main themes.\n",
      "\n",
      "Topic modeling algorithms can be adapted to many kinds of data. Among\n",
      "other applications, they have been used to find patterns in email, genetic data, scientific abstracts, images,\n",
      "and social networks.\n",
      "\n",
      "Those algorithms can be applied to massive collections of documents and at present we already have the tools to analyze streaming collections, like you might find from a Web API.\n",
      "\n",
      "Here we will briefly show a basic use of the python topic modelling library Gensim."
     ]
    },
    {
     "cell_type": "heading",
     "level": 4,
     "metadata": {},
     "source": [
      "References"
     ]
    },
    {
     "cell_type": "markdown",
     "metadata": {},
     "source": [
      "* TOPIC MODELS, David Blei, (2009).\n",
      "* *Building Machine Learning Systems with Python*, Willi Richert, Luis Pedro Coelho, packt (2013).\n",
      "* [Gensim](http://radimrehurek.com/gensim/tutorial.html), Radim \u0158eh\u016f\u0159ek (2009-now)."
     ]
    },
    {
     "cell_type": "code",
     "collapsed": false,
     "input": [
      "# This line configures matplotlib to show figures embedded in the notebook.\n",
      "%matplotlib inline"
     ],
     "language": "python",
     "metadata": {},
     "outputs": [
      {
       "output_type": "stream",
       "stream": "stdout",
       "text": [
        "Installed version_information.py. To use it, type:\n",
        "  %load_ext version_information\n"
       ]
      }
     ],
     "prompt_number": 2
    },
    {
     "cell_type": "code",
     "collapsed": false,
     "input": [
      "%load_ext version_information\n",
      "\n",
      "%version_information numpy, scipy, matplotlib, sympy"
     ],
     "language": "python",
     "metadata": {},
     "outputs": [
      {
       "output_type": "stream",
       "stream": "stdout",
       "text": [
        "The version_information extension is already loaded. To reload it, use:\n",
        "  %reload_ext version_information\n"
       ]
      },
      {
       "html": [
        "<table><tr><th>Software</th><th>Version</th></tr><tr><td>Python</td><td>2.7.6 |Anaconda 2.0.0 (64-bit)| (default, May 27 2014, 15:00:33) [MSC v.1500 64 bit (AMD64)]</td></tr><tr><td>IPython</td><td>2.1.0</td></tr><tr><td>OS</td><td>nt [win32]</td></tr><tr><td>numpy</td><td>1.8.1</td></tr><tr><td>scipy</td><td>0.14.0</td></tr><tr><td>matplotlib</td><td>1.3.1</td></tr><tr><td>sympy</td><td>0.7.5</td></tr><tr><td colspan='2'>Fri Jun 20 17:08:04 2014 W. Europe Daylight Time</td></tr></table>"
       ],
       "json": [
        "{\"Software versions\": [{\"version\": \"2.7.6 |Anaconda 2.0.0 (64-bit)| (default, May 27 2014, 15:00:33) [MSC v.1500 64 bit (AMD64)]\", \"module\": \"Python\"}, {\"version\": \"2.1.0\", \"module\": \"IPython\"}, {\"version\": \"nt [win32]\", \"module\": \"OS\"}, {\"version\": \"1.8.1\", \"module\": \"numpy\"}, {\"version\": \"0.14.0\", \"module\": \"scipy\"}, {\"version\": \"1.3.1\", \"module\": \"matplotlib\"}, {\"version\": \"0.7.5\", \"module\": \"sympy\"}]}"
       ],
       "latex": [
        "\\begin{tabular}{|l|l|}\\hline\n",
        "{\\bf Software} & {\\bf Version} \\\\ \\hline\\hline\n",
        "Python & 2.7.6 |Anaconda 2.0.0 (64-bit)| (default, May 27 2014, 15:00:33) [MSC v.1500 64 bit (AMD64)] \\\\ \\hline\n",
        "IPython & 2.1.0 \\\\ \\hline\n",
        "OS & nt [win32] \\\\ \\hline\n",
        "numpy & 1.8.1 \\\\ \\hline\n",
        "scipy & 0.14.0 \\\\ \\hline\n",
        "matplotlib & 1.3.1 \\\\ \\hline\n",
        "sympy & 0.7.5 \\\\ \\hline\n",
        "\\hline \\multicolumn{2}{|l|}{Fri Jun 20 17:08:04 2014 W. Europe Daylight Time} \\\\ \\hline\n",
        "\\end{tabular}\n"
       ],
       "metadata": {},
       "output_type": "pyout",
       "prompt_number": 18,
       "text": [
        "Software versions\n",
        "Python 2.7.6 |Anaconda 2.0.0 (64-bit)| (default, May 27 2014, 15:00:33) [MSC v.1500 64 bit (AMD64)]\n",
        "IPython 2.1.0\n",
        "OS nt [win32]\n",
        "numpy 1.8.1\n",
        "scipy 0.14.0\n",
        "matplotlib 1.3.1\n",
        "sympy 0.7.5\n",
        "<tr><td colspan='2'>Fri Jun 20 17:08:04 2014 W. Europe Daylight Time</td></tr>"
       ]
      }
     ],
     "prompt_number": 18
    },
    {
     "cell_type": "code",
     "collapsed": false,
     "input": [
      "from __future__ import print_function\n",
      "from gensim import corpora, models\n",
      "from mpltools import style\n",
      "style.use('ggplot')\n",
      "import matplotlib.pyplot as plt\n",
      "import numpy as np"
     ],
     "language": "python",
     "metadata": {},
     "outputs": [],
     "prompt_number": 3
    },
    {
     "cell_type": "markdown",
     "metadata": {},
     "source": [
      "Using the Associated Press (AP) dataset, we create a corpus (a list of words). The dataset is cca 7000 short text news, and vocabulary is cca 10500 words."
     ]
    },
    {
     "cell_type": "code",
     "collapsed": false,
     "input": [
      "corpus = corpora.BleiCorpus('./data/ap/ap.dat', './data/ap/vocab.txt')"
     ],
     "language": "python",
     "metadata": {},
     "outputs": [],
     "prompt_number": 4
    },
    {
     "cell_type": "markdown",
     "metadata": {},
     "source": [
      "#### class gensim.corpora.bleicorpus.BleiCorpus\n",
      "`(fname, fname_vocab=None)`\n",
      "\n",
      "- Corpus in Blei\u2019s LDA-C format.\n",
      "\n",
      "- The corpus is represented as two files: one describing the documents, and another describing the mapping between words and their ids.\n",
      "\n",
      "- Each document is one line: `N fieldId1:fieldValue1 fieldId2:fieldValue2 ... fieldIdN:fieldValueN` \n",
      "\n",
      "- The vocabulary is a file with words, one word per line; word at line K has an implicit `id=K`.\n",
      "\n",
      "- Initialize the corpus from a file.\n",
      "\n",
      "- `fname_vocab` is the file with vocabulary; if not specified, it defaults to `fname.vocab`."
     ]
    },
    {
     "cell_type": "markdown",
     "metadata": {},
     "source": [
      "Creating a topic model\n",
      "----\n",
      "\n",
      "The idea behind **Latent Dirichlet Allocation (LDA)** is to statistically model documents as containing multiple latent (hidden) semantic topics, where we define a *topic* to be a distribution over a fixed vocabulary of terms.\n",
      "\n",
      "It is a *hidden variable model* of documents. The observed variables here are the words of each document and the hidden variables represent the latent topical structure.\n",
      "Given a collection, the *posterior distribution* of the hidden variables given the observed documents determines\n",
      "a hidden topical decomposition of the collection. Applications of\n",
      "topic modeling use posterior estimates of these hidden variables to perform\n",
      "tasks such as information retrieval and document browsing.\n",
      "\n",
      "It is most easily described by its generative process, the imaginary\n",
      "random process by which the model assumes the documents arose. \n",
      "\n",
      "For example, a genetics topic has words about genetics with high probability\n",
      "and the evolutionary biology topic has words about evolutionary biology with\n",
      "high probability. We assume that these topics are specified before any data\n",
      "has been generated.\n",
      "\n",
      "For each document in the collection, we generate the words in a two-stage process.\n",
      "* Randomly choose a distribution over topics.\n",
      "* For each word in the document:\n",
      "    * a. Randomly choose a topic from the distribution over topics in step 1.\n",
      "    * b. Randomly choose a word from the corresponding distribution over the vocabulary."
     ]
    },
    {
     "cell_type": "code",
     "collapsed": false,
     "input": [
      "model = models.ldamodel.LdaModel(corpus, num_topics=100, id2word=corpus.id2word, alpha=None)"
     ],
     "language": "python",
     "metadata": {},
     "outputs": [
      {
       "output_type": "stream",
       "stream": "stderr",
       "text": [
        "WARNING:gensim.models.ldamodel:too few updates, training might not converge; consider increasing the number of passes or iterations to improve accuracy\n"
       ]
      }
     ],
     "prompt_number": 5
    },
    {
     "cell_type": "markdown",
     "metadata": {},
     "source": [
      "#### class gensim.models.ldamodel.LdaModel\n",
      "`(corpus=None, num_topics=100, id2word=None, distributed=False, chunksize=2000, passes=1, update_every=1, alpha='symmetric', eta=None, decay=0.5, eval_every=10, iterations=50, gamma_threshold=0.001)`\n",
      "\n",
      "* `num_topics` is the number of requested latent topics to be extracted from the training corpus.\n",
      "* `id2word is` a mapping from word ids (integers) to words (strings). \n",
      "    It is used to determine the vocabulary size, as well as for debugging and topic printing.\n",
      "* `alpha` and `eta` are hyperparameters that affect sparsity of the document-topic (theta) \n",
      " and topic-word (lambda) distributions. Both default to a symmetric `1.0/num_topics` prior."
     ]
    },
    {
     "cell_type": "markdown",
     "metadata": {},
     "source": [
      "**Note**\n",
      "\n",
      "We could use *hierarchical Dirichlet process* to help us determine the oprimal number of topics for our model. Use this to create the model:\n",
      "\n",
      "    hdp = gensim.models.hdpmodel.HdpModel(mm, id2word)\n",
      "\n",
      "\n",
      "Now we create a collection of topics corresponding to all documents in the corpus, the output is a list of pairs `(topic_index, topic_weight)`."
     ]
    },
    {
     "cell_type": "code",
     "collapsed": false,
     "input": [
      "topics = [model[c] for c in corpus]\n",
      "print(topics[1])"
     ],
     "language": "python",
     "metadata": {},
     "outputs": [
      {
       "output_type": "stream",
       "stream": "stdout",
       "text": [
        "[(7, 0.04778101643879569), (8, 0.25320192957893789), (20, 0.18307852590827106), (38, 0.030914608984235526), (51, 0.10247855958420538), (55, 0.049315999676173075), (59, 0.028001176759200708), (71, 0.016417949033422554), (83, 0.17440715525261719), (87, 0.069406229900573546)]\n"
       ]
      }
     ],
     "prompt_number": 6
    },
    {
     "cell_type": "markdown",
     "metadata": {},
     "source": [
      "We can take the first 5 topics and show the 9 most relevant words for each. "
     ]
    },
    {
     "cell_type": "code",
     "collapsed": false,
     "input": [
      "for ti in xrange(6):\n",
      "    words = model.show_topic(ti, 19)\n",
      "    tf = sum(f for f, w in words)\n",
      "    print('\\n'.join('{}: {}'.format(w, int(1000. * f / tf)) for f, w in words))\n",
      "    print()"
     ],
     "language": "python",
     "metadata": {},
     "outputs": [
      {
       "output_type": "stream",
       "stream": "stdout",
       "text": [
        "attorney: 101\n",
        "mecham: 80\n",
        "milstead: 77\n",
        "impeachment: 74\n",
        "trial: 62\n",
        "judge: 58\n",
        "pair: 56\n",
        "state: 55\n",
        "grants: 51\n",
        "grower: 43\n",
        "senators: 41\n",
        "i: 41\n",
        "office: 38\n",
        "told: 38\n",
        "threat: 36\n",
        "senate: 36\n",
        "court: 35\n",
        "craft: 35\n",
        "et: 34\n",
        "\n",
        "bentsen: 118\n",
        "south: 117\n",
        "africa: 101\n",
        "dukakis: 76\n",
        "african: 66\n",
        "i: 58\n",
        "de: 52\n",
        "bail: 45\n",
        "nosair: 41\n",
        "bush: 35\n",
        "klerk: 35\n",
        "democratic: 33\n",
        "police: 32\n",
        "state: 31\n",
        "told: 31\n",
        "president: 31\n",
        "hoffman: 30\n",
        "apartheid: 29\n",
        "kahane: 28\n",
        "\n",
        "bank: 176\n",
        "macmillan: 133\n",
        "maxwell: 109\n",
        "tower: 55\n",
        "share: 46\n",
        "trash: 43\n",
        "cash: 40\n",
        "million: 39\n",
        "late: 38\n",
        "new: 37\n",
        "floors: 37\n",
        "restructuring: 36\n",
        "publishing: 33\n",
        "campbell: 32\n",
        "bid: 29\n",
        "offer: 28\n",
        "shareholders: 27\n",
        "pacific: 26\n",
        "york: 26\n",
        "\n",
        "bass: 223\n",
        "innovative: 117\n",
        "irs: 73\n",
        "rode: 72\n",
        "percent: 47\n",
        "retailing: 44\n",
        "leftists: 44\n",
        "kennedys: 44\n",
        "collectors: 40\n",
        "police: 37\n",
        "i: 36\n",
        "debts: 36\n",
        "new: 28\n",
        "friday: 28\n",
        "west: 27\n",
        "improvement: 26\n",
        "trial: 24\n",
        "years: 23\n",
        "year: 23\n",
        "\n",
        "creek: 92\n",
        "kashmir: 73\n",
        "people: 67\n",
        "boxes: 58\n",
        "jammukashmir: 57\n",
        "percent: 54\n",
        "yellow: 53\n",
        "state: 53\n",
        "i: 52\n",
        "srinagar: 49\n",
        "says: 48\n",
        "moslem: 47\n",
        "heroes: 47\n",
        "immigrants: 46\n",
        "environmental: 41\n",
        "pakistan: 41\n",
        "new: 38\n",
        "two: 38\n",
        "mm: 36\n",
        "\n",
        "children: 102\n",
        "study: 93\n",
        "gene: 85\n",
        "mason: 80\n",
        "parents: 79\n",
        "n: 71\n",
        "cells: 52\n",
        "treatment: 47\n",
        "group: 45\n",
        "blood: 40\n",
        "carried: 36\n",
        "heath: 36\n",
        "fatality: 36\n",
        "researchers: 35\n",
        "two: 33\n",
        "command: 31\n",
        "new: 31\n",
        "klan: 30\n",
        "potato: 30\n",
        "\n"
       ]
      }
     ],
     "prompt_number": 7
    },
    {
     "cell_type": "markdown",
     "metadata": {},
     "source": [
      "Notice the useless words such as \"I\" and \"b\", they are called stop words and we should remove them."
     ]
    },
    {
     "cell_type": "markdown",
     "metadata": {},
     "source": [
      "Lets plot the histogram of how many topics documents contain. "
     ]
    },
    {
     "cell_type": "code",
     "collapsed": false,
     "input": [
      "thetas = topics\n",
      "plt.hist([len(t) for t in thetas], np.arange(42))\n",
      "plt.ylabel('Nr of documents')\n",
      "plt.xlabel('Nr of topics')\n",
      "plt.show()"
     ],
     "language": "python",
     "metadata": {},
     "outputs": [
      {
       "metadata": {},
       "output_type": "display_data",
       "png": "[encoded data removed]",
       "text": [
        "<matplotlib.figure.Figure at 0xa7c78d0>"
       ]
      }
     ],
     "prompt_number": 8
    },
    {
     "cell_type": "markdown",
     "metadata": {},
     "source": [
      "You can see that it is a sparse model, i.e. there are many topics in total, but each document contain just a few of them."
     ]
    },
    {
     "cell_type": "markdown",
     "metadata": {},
     "source": [
      "The distribution of the number of topics among documents is a function of the `alpha` parameter."
     ]
    },
    {
     "cell_type": "markdown",
     "metadata": {},
     "source": [
      "The default alpha in gensim is `1.0/len(corpus)`, so lets try a different value of `alpha`."
     ]
    },
    {
     "cell_type": "code",
     "collapsed": false,
     "input": [
      "model1 = models.ldamodel.LdaModel(\n",
      "    corpus, num_topics=100, id2word=corpus.id2word, alpha=1.)\n",
      "thetas1 = [model1[c] for c in corpus]\n",
      "model2 = models.ldamodel.LdaModel(\n",
      "    corpus, num_topics=100, id2word=corpus.id2word, alpha=2.)\n",
      "thetas2 = [model2[c] for c in corpus]"
     ],
     "language": "python",
     "metadata": {},
     "outputs": [
      {
       "output_type": "stream",
       "stream": "stderr",
       "text": [
        "WARNING:gensim.models.ldamodel:too few updates, training might not converge; consider increasing the number of passes or iterations to improve accuracy\n"
       ]
      },
      {
       "output_type": "stream",
       "stream": "stderr",
       "text": [
        "WARNING:gensim.models.ldamodel:too few updates, training might not converge; consider increasing the number of passes or iterations to improve accuracy\n"
       ]
      }
     ],
     "prompt_number": 9
    },
    {
     "cell_type": "code",
     "collapsed": false,
     "input": [
      "plt.clf()\n",
      "plt.hist([[len(t) for t in thetas], [len(t) for t in thetas1], [len(t) for t in thetas2]], np.arange(42))\n",
      "plt.ylabel('Nr of documents')\n",
      "plt.xlabel('Nr of topics')\n",
      "plt.text(9, 223, r'default alpha')\n",
      "plt.text(24, 156, 'alpha=1.0')\n",
      "plt.text(36, 172, 'alpha=2.0')\n",
      "plt.show()"
     ],
     "language": "python",
     "metadata": {},
     "outputs": [
      {
       "metadata": {},
       "output_type": "display_data",
       "png": "[encoded data removed]",
       "text": [
        "<matplotlib.figure.Figure at 0x134cab00>"
       ]
      }
     ],
     "prompt_number": 10
    },
    {
     "cell_type": "markdown",
     "metadata": {},
     "source": [
      "The larger the `alpha` parameter, the more topics documents contain.\n",
      "\n"
     ]
    },
    {
     "cell_type": "markdown",
     "metadata": {},
     "source": [
      "Similarity of documents in topic space\n",
      "----\n",
      "\n",
      "For each document, we have a list of contained topics and their weights. In other words, we know the location of the document in the topic space."
     ]
    },
    {
     "cell_type": "markdown",
     "metadata": {},
     "source": [
      "First, we store the topics in NumPy arrays."
     ]
    },
    {
     "cell_type": "code",
     "collapsed": false,
     "input": [
      "dense = np.zeros((len(topics), 100), float)\n",
      "for ti, t in enumerate(topics):\n",
      "    for tj, v in t:\n",
      "        dense[ti, tj] = v"
     ],
     "language": "python",
     "metadata": {},
     "outputs": [],
     "prompt_number": 11
    },
    {
     "cell_type": "markdown",
     "metadata": {},
     "source": [
      "Then we compute all pairwise distances using the `pdist` function from SciPy. "
     ]
    },
    {
     "cell_type": "code",
     "collapsed": false,
     "input": [
      "from scipy.spatial import distance\n",
      "\n",
      "pairwise = distance.squareform(distance.pdist(dense))"
     ],
     "language": "python",
     "metadata": {},
     "outputs": [],
     "prompt_number": 12
    },
    {
     "cell_type": "markdown",
     "metadata": {},
     "source": [
      "Set the diagonal elements of the distance matrix to higher values than anything else in the matrix as we do not want to return the same element when we ask for the closest one."
     ]
    },
    {
     "cell_type": "code",
     "collapsed": false,
     "input": [
      "largest = pairwise.max()\n",
      "for ti in range(len(topics)):\n",
      "    pairwise[ti, ti] = largest+1"
     ],
     "language": "python",
     "metadata": {},
     "outputs": [],
     "prompt_number": 13
    },
    {
     "cell_type": "markdown",
     "metadata": {},
     "source": [
      "Now for each document we can safely ask for the closest one in the topic space."
     ]
    },
    {
     "cell_type": "code",
     "collapsed": false,
     "input": [
      "def closest(doc_id):\n",
      "    return pairwise[doc_id].argmin()"
     ],
     "language": "python",
     "metadata": {},
     "outputs": [],
     "prompt_number": 14
    },
    {
     "cell_type": "markdown",
     "metadata": {},
     "source": [
      "It is time explore the space!"
     ]
    },
    {
     "cell_type": "code",
     "collapsed": false,
     "input": [
      "for i in xrange(10):\n",
      "    print(\"Document no. %i is closest to the document no. %i in the topic space.\" % (i, closest(i)))"
     ],
     "language": "python",
     "metadata": {},
     "outputs": [
      {
       "output_type": "stream",
       "stream": "stdout",
       "text": [
        "Document no. 0 is closest to the document no. 323 in the topic space.\n",
        "Document no. 1 is closest to the document no. 1744 in the topic space.\n",
        "Document no. 2 is closest to the document no. 1429 in the topic space.\n",
        "Document no. 3 is closest to the document no. 495 in the topic space.\n",
        "Document no. 4 is closest to the document no. 584 in the topic space.\n",
        "Document no. 5 is closest to the document no. 480 in the topic space.\n",
        "Document no. 6 is closest to the document no. 650 in the topic space.\n",
        "Document no. 7 is closest to the document no. 2056 in the topic space.\n",
        "Document no. 8 is closest to the document no. 22 in the topic space.\n",
        "Document no. 9 is closest to the document no. 1056 in the topic space.\n"
       ]
      }
     ],
     "prompt_number": 15
    },
    {
     "cell_type": "markdown",
     "metadata": {},
     "source": [
      "What To Do Next?  \n",
      "----\n",
      "\n",
      "- We store the news texts in the file './data/ap/ap.txt', parse the file and display nicely the texts.\n",
      "- apply *stemming* - reduce words to their specific word stems. NLTK can do it.\n",
      "- remove stop words, use NLTK\n",
      "- experiment with changing the number of topics in the model\n",
      "\n",
      "Summary\n",
      "---\n",
      "\n",
      "Let's review what we did:\n",
      "\n",
      "- Introduced what topic modelling is.\n",
      "- Explored basic LDA model.\n",
      "- Checked the most significant words for some topics.\n",
      "- Plotted histogram of number of topics in documents.\n",
      "- Explored the influence of `alpha` on the model.\n",
      "- Created the topics space and computed the similarity matrix of the documents in the space.\n"
     ]
    }
   ],
   "metadata": {}
  }
 ]
}